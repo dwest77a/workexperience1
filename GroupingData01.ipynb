{
 "cells": [
  {
   "cell_type": "code",
   "execution_count": 1,
   "id": "422332aa-4ff5-4b5f-beef-bf880bdd2edc",
   "metadata": {},
   "outputs": [],
   "source": [
    "import os\n",
    "import numpy as np\n",
    "import xarray as xr\n",
    "import matplotlib.pyplot as plt\n",
    "import math\n"
   ]
  },
  {
   "cell_type": "code",
   "execution_count": 2,
   "id": "edee5e33-4a40-488a-8235-06c3cfd23af0",
   "metadata": {},
   "outputs": [
    {
     "name": "stdout",
     "output_type": "stream",
     "text": [
      "['ral-l2p-tqoe-iasi_mhs_amsu_metopa-tir_mw-20071001052359z_20071001070551z_750_799-v1000.nc', 'ral-l2p-tqoe-iasi_mhs_amsu_metopa-tir_mw-20071001070559z_20071001084751z_000_049-v1000.nc', 'ral-l2p-tqoe-iasi_mhs_amsu_metopa-tir_mw-20071001070559z_20071001084751z_050_099-v1000.nc', 'ral-l2p-tqoe-iasi_mhs_amsu_metopa-tir_mw-20071001070559z_20071001084751z_700_749-v1000.nc', 'ral-l2p-tqoe-iasi_mhs_amsu_metopa-tir_mw-20071001070559z_20071001084751z_750_799-v1000.nc', 'ral-l2p-tqoe-iasi_mhs_amsu_metopa-tir_mw-20071001084759z_20071001102951z_000_049-v1000.nc', 'ral-l2p-tqoe-iasi_mhs_amsu_metopa-tir_mw-20071001084759z_20071001102951z_050_099-v1000.nc', 'ral-l2p-tqoe-iasi_mhs_amsu_metopa-tir_mw-20071001084759z_20071001102951z_700_749-v1000.nc', 'ral-l2p-tqoe-iasi_mhs_amsu_metopa-tir_mw-20071001084759z_20071001102951z_750_799-v1000.nc', 'ral-l2p-tqoe-iasi_mhs_amsu_metopa-tir_mw-20071001102959z_20071001120855z_000_049-v1000.nc', 'ral-l2p-tqoe-iasi_mhs_amsu_metopa-tir_mw-20071001102959z_20071001120855z_050_099-v1000.nc', 'ral-l2p-tqoe-iasi_mhs_amsu_metopa-tir_mw-20071001102959z_20071001120855z_700_749-v1000.nc', 'ral-l2p-tqoe-iasi_mhs_amsu_metopa-tir_mw-20071001120855z_20071001134751z_000_049-v1000.nc', 'ral-l2p-tqoe-iasi_mhs_amsu_metopa-tir_mw-20071001120855z_20071001134751z_050_099-v1000.nc', 'ral-l2p-tqoe-iasi_mhs_amsu_metopa-tir_mw-20071001120855z_20071001134751z_700_749-v1000.nc', 'ral-l2p-tqoe-iasi_mhs_amsu_metopa-tir_mw-20071001134759z_20071001152951z_000_049-v1000.nc', 'ral-l2p-tqoe-iasi_mhs_amsu_metopa-tir_mw-20071001134759z_20071001152951z_650_699-v1000.nc', 'ral-l2p-tqoe-iasi_mhs_amsu_metopa-tir_mw-20071001134759z_20071001152951z_700_749-v1000.nc', 'ral-l2p-tqoe-iasi_mhs_amsu_metopa-tir_mw-20071001152959z_20071001170855z_600_649-v1000.nc', 'ral-l2p-tqoe-iasi_mhs_amsu_metopa-tir_mw-20071001152959z_20071001170855z_650_699-v1000.nc', 'ral-l2p-tqoe-iasi_mhs_amsu_metopa-tir_mw-20071001152959z_20071001170855z_700_749-v1000.nc', 'ral-l2p-tqoe-iasi_mhs_amsu_metopa-tir_mw-20071001170855z_20071001185055z_600_649-v1000.nc', 'ral-l2p-tqoe-iasi_mhs_amsu_metopa-tir_mw-20071001170855z_20071001185055z_650_699-v1000.nc', 'ral-l2p-tqoe-iasi_mhs_amsu_metopa-tir_mw-20071001170855z_20071001185055z_700_749-v1000.nc', 'ral-l2p-tqoe-iasi_mhs_amsu_metopa-tir_mw-20071001185055z_20071001202951z_550_599-v1000.nc', 'ral-l2p-tqoe-iasi_mhs_amsu_metopa-tir_mw-20071001185055z_20071001202951z_600_649-v1000.nc', 'ral-l2p-tqoe-iasi_mhs_amsu_metopa-tir_mw-20071001185055z_20071001202951z_650_699-v1000.nc', 'ral-l2p-tqoe-iasi_mhs_amsu_metopa-tir_mw-20071001185055z_20071001202951z_700_749-v1000.nc', 'ral-l2p-tqoe-iasi_mhs_amsu_metopa-tir_mw-20071001202959z_20071001221151z_600_649-v1000.nc', 'ral-l2p-tqoe-iasi_mhs_amsu_metopa-tir_mw-20071001202959z_20071001221151z_650_699-v1000.nc', 'ral-l2p-tqoe-iasi_mhs_amsu_metopa-tir_mw-20071001202959z_20071001221151z_700_749-v1000.nc', 'ral-l2p-tqoe-iasi_mhs_amsu_metopa-tir_mw-20071001221159z_20071001235351z_600_649-v1000.nc']\n"
     ]
    }
   ],
   "source": [
    "PATH = '/home/users/dwest77/tbworkexp/01/'\n",
    "data = os.listdir(PATH)\n",
    "print(data)"
   ]
  },
  {
   "cell_type": "code",
   "execution_count": 5,
   "id": "92f4a22d-40ba-413e-b7aa-e35ac7893d13",
   "metadata": {},
   "outputs": [],
   "source": [
    "def concat(data, var, dimension, moving=False):\n",
    "    movement_index = [0, 0, 0, 25, 100, 125, 175]\n",
    "    var_data = []\n",
    "    iterations = 0\n",
    "    file_path =  '/home/users/dwest77/tbworkexp/01/'\n",
    "    for file in data:\n",
    "        file_direction = file_path + file\n",
    "        current_file_var_data = xr.open_mfdataset(file_direction)[var]\n",
    "        if moving:\n",
    "            current_file_var_data += movement_index[iterations]\n",
    "\n",
    "        iterations += 1\n",
    "        var_data.append(current_file_var_data)\n",
    "        \n",
    "        \n",
    "\n",
    "    var_data = xr.concat(var_data, dim=dimension)\n",
    "    return var_data"
   ]
  },
  {
   "cell_type": "code",
   "execution_count": 3,
   "id": "b613cade-c2a1-4b7f-b96a-c0fbbbaf56ec",
   "metadata": {},
   "outputs": [
    {
     "name": "stdout",
     "output_type": "stream",
     "text": [
      "{'750_799': 'ral-l2p-tqoe-iasi_mhs_amsu_metopa-tir_mw-20071001052359z_20071001070551z_750_799-v1000.nc', '000_049': 'ral-l2p-tqoe-iasi_mhs_amsu_metopa-tir_mw-20071001070559z_20071001084751z_000_049-v1000.nc', '050_099': 'ral-l2p-tqoe-iasi_mhs_amsu_metopa-tir_mw-20071001070559z_20071001084751z_050_099-v1000.nc', '700_749': 'ral-l2p-tqoe-iasi_mhs_amsu_metopa-tir_mw-20071001070559z_20071001084751z_700_749-v1000.nc', '650_699': 'ral-l2p-tqoe-iasi_mhs_amsu_metopa-tir_mw-20071001134759z_20071001152951z_650_699-v1000.nc', '600_649': 'ral-l2p-tqoe-iasi_mhs_amsu_metopa-tir_mw-20071001152959z_20071001170855z_600_649-v1000.nc', '550_599': 'ral-l2p-tqoe-iasi_mhs_amsu_metopa-tir_mw-20071001185055z_20071001202951z_550_599-v1000.nc'}\n"
     ]
    }
   ],
   "source": [
    "identifier = {}\n",
    "for file in data:\n",
    "    key= file[73:80]\n",
    "    if key in identifier:\n",
    "        pass\n",
    "#this file type has already been saved into the dictionary\n",
    "    else:\n",
    "        identifier[key] = file\n",
    "\n",
    "print(identifier)"
   ]
  },
  {
   "cell_type": "code",
   "execution_count": 4,
   "id": "0a9693b5-18b6-4da5-bf01-9a102966f80e",
   "metadata": {},
   "outputs": [
    {
     "name": "stdout",
     "output_type": "stream",
     "text": [
      "['ral-l2p-tqoe-iasi_mhs_amsu_metopa-tir_mw-20071001052359z_20071001070551z_750_799-v1000.nc', 'ral-l2p-tqoe-iasi_mhs_amsu_metopa-tir_mw-20071001070559z_20071001084751z_000_049-v1000.nc', 'ral-l2p-tqoe-iasi_mhs_amsu_metopa-tir_mw-20071001070559z_20071001084751z_050_099-v1000.nc', 'ral-l2p-tqoe-iasi_mhs_amsu_metopa-tir_mw-20071001070559z_20071001084751z_700_749-v1000.nc', 'ral-l2p-tqoe-iasi_mhs_amsu_metopa-tir_mw-20071001134759z_20071001152951z_650_699-v1000.nc', 'ral-l2p-tqoe-iasi_mhs_amsu_metopa-tir_mw-20071001152959z_20071001170855z_600_649-v1000.nc', 'ral-l2p-tqoe-iasi_mhs_amsu_metopa-tir_mw-20071001185055z_20071001202951z_550_599-v1000.nc']\n"
     ]
    }
   ],
   "source": [
    "uniquely_identified_files = list(identifier.values())\n",
    "print(uniquely_identified_files)"
   ]
  },
  {
   "cell_type": "code",
   "execution_count": 6,
   "id": "366bb8e4-a824-4fd4-9f4c-000869488bb2",
   "metadata": {},
   "outputs": [],
   "source": [
    "satzen_values = concat(uniquely_identified_files, 'satzen', 'npi')\n",
    "long_values = concat(uniquely_identified_files, 'longitude', 'npi', True)\n",
    "lat_values = concat(uniquely_identified_files, 'latitude', 'npi')\n",
    "time_values = concat(uniquely_identified_files, 'sensingtime_day', 'npi')"
   ]
  },
  {
   "cell_type": "code",
   "execution_count": 7,
   "id": "235e671b-f18a-4ebb-9480-c15d7d7865e2",
   "metadata": {},
   "outputs": [
    {
     "name": "stdout",
     "output_type": "stream",
     "text": [
      "(1256,) (1256,)\n",
      "[68.44992, 67.58452, 66.71345, 65.83695, 64.954636, 64.069626, 63.179577, 61.83865, 60.940674, 60.039917, 59.136497, 58.2307, 57.32274, 56.412704, 55.500847, 54.587128, 53.671936, 52.755157, 51.836967, 50.917465, 49.996506, 49.074593, 48.151577, 47.227497, 46.302326, 45.37623, 44.44935, 43.52144, 42.59291, 41.663704, 40.73346, 39.802742, 38.87114, 37.93921, 37.00663, 36.073265, 35.139618, 34.205452, 33.27055, 32.33527, 31.399532, 30.463503, 29.527187, 28.590113, 27.65268, 26.714815, 25.776733, 24.838434, 23.899887, 22.960674, 22.021479, 21.082039, 20.14213, 19.202082, 18.26177, 17.321522, 16.380695, 81.225075, 81.33674, 81.347305, 81.25648, 81.066635, 80.78476, 80.41855, 79.97741, 79.470314, 78.90642, 78.294556, 77.640755, 76.95218, 76.23369, 75.49017, 74.724495, 73.94052, 73.14012, 72.326096, 71.49961, 70.66249, 69.81692, 68.962555, 68.10106, 67.23319, 51.839867, 52.758133, 53.67489, 54.590054, 55.503628, 56.415695, 57.32511, 58.23294, 59.13857, 60.041748, 60.942146, 61.841034, 62.73562, 63.62628, 64.51319, 65.398056, 66.27742, 67.15105, 68.0197, 68.881874, 69.73654, 70.582985, 71.42061, 72.2482, 73.063675, 30.838852, 31.774117, 32.709854, 33.645042, 34.5796, 35.514, 36.44713, 37.379185, 38.311596, 39.243244, 40.17436, 41.105015, 42.034515, 42.96352, 43.891663, 44.819954, 45.746346, 46.671566, 47.59583, 48.51943, 49.442047, 50.364067, 51.284264, 52.2032, 53.120552, 1.0345821, 1.9763075, 2.9185863, 3.8602378, 4.802309, 5.744978, 6.686899, 7.6288776, 8.56855, 9.510665, 10.453211, 11.394935, 12.335819, 13.2763, 14.217711, 15.159386, 16.099485, 17.040058, 17.980755, 18.921139, 19.86084, 20.801483, 21.740074, 22.679255, 23.618324]\n",
      "[68.44992, 67.58452, 66.71345, 65.83695, 64.954636, 64.069626, 63.179577, 61.83865, 60.940674, 60.039917, 59.136497, 58.2307, 57.32274, 56.412704, 55.500847, 54.587128, 53.671936, 52.755157, 51.836967, 50.917465, 49.996506, 49.074593, 48.151577, 47.227497, 46.302326, 45.37623, 44.44935, 43.52144, 42.59291, 41.663704, 40.73346, 39.802742, 38.87114, 37.93921, 37.00663, 36.073265, 35.139618, 34.205452, 33.27055, 32.33527, 31.399532, 30.463503, 29.527187, 28.590113, 27.65268, 26.714815, 25.776733, 24.838434, 23.899887, 22.960674, 22.021479, 21.082039, 20.14213, 19.202082, 18.26177, 17.321522, 16.380695, 81.225075, 81.33674, 81.347305, 81.25648, 81.066635, 80.78476, 80.41855, 79.97741, 79.470314, 78.90642, 78.294556, 77.640755, 76.95218, 76.23369, 75.49017, 74.724495, 73.94052, 73.14012, 72.326096, 71.49961, 70.66249, 69.81692, 68.962555, 68.10106, 67.23319, 51.839867, 52.758133, 53.67489, 54.590054, 55.503628, 56.415695, 57.32511, 58.23294, 59.13857, 60.041748, 60.942146, 61.841034, 62.73562, 63.62628, 64.51319, 65.398056, 66.27742, 67.15105, 68.0197, 68.881874, 69.73654, 70.582985, 71.42061, 72.2482, 73.063675, 30.838852, 31.774117, 32.709854, 33.645042, 34.5796, 35.514, 36.44713, 37.379185, 38.311596, 39.243244, 40.17436, 41.105015, 42.034515, 42.96352, 43.891663, 44.819954, 45.746346, 46.671566, 47.59583, 48.51943, 49.442047, 50.364067, 51.284264, 52.2032, 53.120552, 1.0345821, 1.9763075, 2.9185863, 3.8602378, 4.802309, 5.744978, 6.686899, 7.6288776, 8.56855, 9.510665, 10.453211, 11.394935, 12.335819, 13.2763, 14.217711, 15.159386, 16.099485, 17.040058, 17.980755, 18.921139, 19.86084, 20.801483, 21.740074, 22.679255, 23.618324]\n",
      "[59.38578, 58.30545, 57.296833, 56.352608, 55.464832, 54.63257, 53.845676, 52.744843, 52.05803, 51.40554, 50.783928, 50.190895, 49.624084, 49.08127, 48.5606, 48.060448, 47.579582, 47.115906, 46.6688, 46.236584, 45.818596, 45.41363, 45.02108, 44.639965, 44.269787, 43.909462, 43.55851, 43.2164, 42.882637, 42.556892, 42.238037, 41.926437, 41.620895, 41.322266, 41.028755, 40.740868, 40.458103, 40.180138, 39.906986, 39.638268, 39.373917, 39.112717, 38.855038, 38.60154, 38.35125, 38.103813, 37.859337, 37.617424, 37.378494, 37.142113, 36.907806, 36.675766, 36.44546, 36.21753, 35.99092, 35.766438, 35.54339, 137.8851, 131.6322, 125.298096, 119.01822, 112.934265, 107.15579, 101.76136, 96.7918, 92.26047, 88.15479, 84.45048, 81.1127, 78.11392, 75.403175, 72.9554, 70.738075, 68.72435, 66.888626, 65.21121, 63.66972, 62.25155, 60.942406, 59.72989, 58.60315, 57.552658, 182.93982, 182.49265, 182.02863, 181.54729, 181.04752, 180.52757, 179.98462, 179.41753, 178.82513, 178.20436, 177.55098, 176.86455, 176.14137, 175.3773, 174.56671, 173.70813, 172.79312, 171.81625, 170.77222, 169.65442, 168.45056, 167.15219, 165.74687, 164.21893, 162.55505, 190.05112, 189.78915, 189.52231, 189.2518, 188.97662, 188.69666, 188.4125, 188.12299, 187.82736, 187.52603, 187.21826, 186.90385, 186.58249, 186.25348, 185.91655, 185.5711, 185.21635, 184.85236, 184.47798, 184.09248, 183.69528, 183.28477, 182.8615, 182.42352, 181.97035, 196.53464, 196.32452, 196.11407, 195.90372, 195.69292, 195.48169, 195.27017, 195.05753, 194.8458, 194.63196, 194.4174, 194.20227, 193.98575, 193.7691, 193.55035, 193.33072, 193.10953, 192.8872, 192.66292, 192.43716, 192.20984, 191.98044, 191.74881, 191.51543, 191.2795]\n"
     ]
    }
   ],
   "source": [
    "lat_filter = lat_values[satzen_values < 1.5]\n",
    "long_filter = long_values[satzen_values < 1.5]\n",
    "time_filter = time_values[satzen_values < 1.5]\n",
    "\n",
    "long_filter = np.array(long_filter)\n",
    "lat_filter = np.array(lat_filter)\n",
    "time_filter = np.array(time_filter)\n",
    "print(long_filter.shape, lat_filter.shape)\n",
    "\n",
    "long_filter = list(np.reshape(long_filter, (157, 8)))\n",
    "lat_filter = list(np.reshape(lat_filter, (157, 8)))\n",
    "time_filter = list(np.reshape(lat_filter, (157, 8)))\n",
    "\n",
    "mean_of_time = []\n",
    "mean_of_lat = []\n",
    "mean_of_long = []\n",
    "for group_of_data in lat_filter:\n",
    "    mean_of_lat.append(np.mean(group_of_data, None))\n",
    "\n",
    "for group_of_data in long_filter:\n",
    "    mean_of_long.append(np.mean(group_of_data, None))\n",
    "\n",
    "for group_of_data in time_filter:\n",
    "    mean_of_time.append(np.mean(group_of_data, None))\n",
    "\n",
    "print(mean_of_time)\n",
    "print(mean_of_lat)\n",
    "print(mean_of_long)"
   ]
  },
  {
   "cell_type": "code",
   "execution_count": 8,
   "id": "14e55e16-1dc2-4be5-9a3f-88b85262b934",
   "metadata": {},
   "outputs": [
    {
     "data": {
      "text/plain": [
       "<matplotlib.collections.PathCollection at 0x7fe4506b75b0>"
      ]
     },
     "execution_count": 8,
     "metadata": {},
     "output_type": "execute_result"
    },
    {
     "data": {
      "image/png": "[encoded data removed]",
      "text/plain": [
       "<Figure size 432x288 with 1 Axes>"
      ]
     },
     "metadata": {
      "needs_background": "light"
     },
     "output_type": "display_data"
    }
   ],
   "source": [
    "plt.scatter(mean_of_long, mean_of_lat)"
   ]
  },
  {
   "cell_type": "code",
   "execution_count": 9,
   "id": "2723bf92-ce83-46bb-a5ef-50f3c5f8d6c1",
   "metadata": {},
   "outputs": [],
   "source": [
    "test_to_variables = []\n",
    "i = 36\n",
    "while i <= 200:\n",
    "    i += 4\n",
    "    test_to_variables.append(i)"
   ]
  },
  {
   "cell_type": "code",
   "execution_count": 13,
   "id": "8ffc9259-940f-45d7-adc8-70dbd218f9d2",
   "metadata": {},
   "outputs": [],
   "source": [
    "lat_buckets = []\n",
    "for x in range(0, len(long_buckets)):\n",
    "    lat_buckets.append([])"
   ]
  },
  {
   "cell_type": "code",
   "execution_count": 12,
   "id": "d2549e24-3826-43fd-94f0-f71244d731eb",
   "metadata": {
    "scrolled": true
   },
   "outputs": [],
   "source": [
    "long_buckets = []\n",
    "for x in range(0, 200, 4):\n",
    "    long_buckets.append(x)"
   ]
  },
  {
   "cell_type": "code",
   "execution_count": 14,
   "id": "365a9065-fbb5-41a1-a0eb-375f7205b44c",
   "metadata": {},
   "outputs": [
    {
     "name": "stdout",
     "output_type": "stream",
     "text": [
      "59.38578 68.44992 14\n",
      "58.30545 67.58452 14\n",
      "57.296833 66.71345 14\n",
      "56.352608 65.83695 14\n",
      "55.464832 64.954636 13\n",
      "54.63257 64.069626 13\n",
      "53.845676 63.179577 13\n",
      "52.744843 61.83865 13\n",
      "52.05803 60.940674 13\n",
      "51.40554 60.039917 12\n",
      "50.783928 59.136497 12\n",
      "50.190895 58.2307 12\n",
      "49.624084 57.32274 12\n",
      "49.08127 56.412704 12\n",
      "48.5606 55.500847 12\n",
      "48.060448 54.587128 12\n",
      "47.579582 53.671936 11\n",
      "47.115906 52.755157 11\n",
      "46.6688 51.836967 11\n",
      "46.236584 50.917465 11\n",
      "45.818596 49.996506 11\n",
      "45.41363 49.074593 11\n",
      "45.02108 48.151577 11\n",
      "44.639965 47.227497 11\n",
      "44.269787 46.302326 11\n",
      "43.909462 45.37623 10\n",
      "43.55851 44.44935 10\n",
      "43.2164 43.52144 10\n",
      "42.882637 42.59291 10\n",
      "42.556892 41.663704 10\n",
      "42.238037 40.73346 10\n",
      "41.926437 39.802742 10\n",
      "41.620895 38.87114 10\n",
      "41.322266 37.93921 10\n",
      "41.028755 37.00663 10\n",
      "40.740868 36.073265 10\n",
      "40.458103 35.139618 10\n",
      "40.180138 34.205452 10\n",
      "39.906986 33.27055 9\n",
      "39.638268 32.33527 9\n",
      "39.373917 31.399532 9\n",
      "39.112717 30.463503 9\n",
      "38.855038 29.527187 9\n",
      "38.60154 28.590113 9\n",
      "38.35125 27.65268 9\n",
      "38.103813 26.714815 9\n",
      "37.859337 25.776733 9\n",
      "37.617424 24.838434 9\n",
      "37.378494 23.899887 9\n",
      "37.142113 22.960674 9\n",
      "36.907806 22.021479 9\n",
      "36.675766 21.082039 9\n",
      "36.44546 20.14213 9\n",
      "36.21753 19.202082 9\n",
      "35.99092 18.26177 8\n",
      "35.766438 17.321522 8\n",
      "35.54339 16.380695 8\n",
      "137.8851 81.225075 34\n",
      "131.6322 81.33674 32\n",
      "125.298096 81.347305 31\n",
      "119.01822 81.25648 29\n",
      "112.934265 81.066635 28\n",
      "107.15579 80.78476 26\n",
      "101.76136 80.41855 25\n",
      "96.7918 79.97741 24\n",
      "92.26047 79.470314 23\n",
      "88.15479 78.90642 22\n",
      "84.45048 78.294556 21\n",
      "81.1127 77.640755 20\n",
      "78.11392 76.95218 19\n",
      "75.403175 76.23369 18\n",
      "72.9554 75.49017 18\n",
      "70.738075 74.724495 17\n",
      "68.72435 73.94052 17\n",
      "66.888626 73.14012 16\n",
      "65.21121 72.326096 16\n",
      "63.66972 71.49961 15\n",
      "62.25155 70.66249 15\n",
      "60.942406 69.81692 15\n",
      "59.72989 68.962555 14\n",
      "58.60315 68.10106 14\n",
      "57.552658 67.23319 14\n",
      "182.93982 51.839867 45\n",
      "182.49265 52.758133 45\n",
      "182.02863 53.67489 45\n",
      "181.54729 54.590054 45\n",
      "181.04752 55.503628 45\n",
      "180.52757 56.415695 45\n",
      "179.98462 57.32511 44\n",
      "179.41753 58.23294 44\n",
      "178.82513 59.13857 44\n",
      "178.20436 60.041748 44\n",
      "177.55098 60.942146 44\n",
      "176.86455 61.841034 44\n",
      "176.14137 62.73562 44\n",
      "175.3773 63.62628 43\n",
      "174.56671 64.51319 43\n",
      "173.70813 65.398056 43\n",
      "172.79312 66.27742 43\n",
      "171.81625 67.15105 42\n",
      "170.77222 68.0197 42\n",
      "169.65442 68.881874 42\n",
      "168.45056 69.73654 42\n",
      "167.15219 70.582985 41\n",
      "165.74687 71.42061 41\n",
      "164.21893 72.2482 41\n",
      "162.55505 73.063675 40\n",
      "190.05112 30.838852 47\n",
      "189.78915 31.774117 47\n",
      "189.52231 32.709854 47\n",
      "189.2518 33.645042 47\n",
      "188.97662 34.5796 47\n",
      "188.69666 35.514 47\n",
      "188.4125 36.44713 47\n",
      "188.12299 37.379185 47\n",
      "187.82736 38.311596 46\n",
      "187.52603 39.243244 46\n",
      "187.21826 40.17436 46\n",
      "186.90385 41.105015 46\n",
      "186.58249 42.034515 46\n",
      "186.25348 42.96352 46\n",
      "185.91655 43.891663 46\n",
      "185.5711 44.819954 46\n",
      "185.21635 45.746346 46\n",
      "184.85236 46.671566 46\n",
      "184.47798 47.59583 46\n",
      "184.09248 48.51943 46\n",
      "183.69528 49.442047 45\n",
      "183.28477 50.364067 45\n",
      "182.8615 51.284264 45\n",
      "182.42352 52.2032 45\n",
      "181.97035 53.120552 45\n",
      "196.53464 1.0345821 49\n",
      "196.32452 1.9763075 49\n",
      "196.11407 2.9185863 49\n",
      "195.90372 3.8602378 48\n",
      "195.69292 4.802309 48\n",
      "195.48169 5.744978 48\n",
      "195.27017 6.686899 48\n",
      "195.05753 7.6288776 48\n",
      "194.8458 8.56855 48\n",
      "194.63196 9.510665 48\n",
      "194.4174 10.453211 48\n",
      "194.20227 11.394935 48\n",
      "193.98575 12.335819 48\n",
      "193.7691 13.2763 48\n",
      "193.55035 14.217711 48\n",
      "193.33072 15.159386 48\n",
      "193.10953 16.099485 48\n",
      "192.8872 17.040058 48\n",
      "192.66292 17.980755 48\n",
      "192.43716 18.921139 48\n",
      "192.20984 19.86084 48\n",
      "191.98044 20.801483 47\n",
      "191.74881 21.740074 47\n",
      "191.51543 22.679255 47\n",
      "191.2795 23.618324 47\n",
      "[[], [], [], [], [], [], [], [], [18.26177, 17.321522, 16.380695], [33.27055, 32.33527, 31.399532, 30.463503, 29.527187, 28.590113, 27.65268, 26.714815, 25.776733, 24.838434, 23.899887, 22.960674, 22.021479, 21.082039, 20.14213, 19.202082], [45.37623, 44.44935, 43.52144, 42.59291, 41.663704, 40.73346, 39.802742, 38.87114, 37.93921, 37.00663, 36.073265, 35.139618, 34.205452], [53.671936, 52.755157, 51.836967, 50.917465, 49.996506, 49.074593, 48.151577, 47.227497, 46.302326], [60.039917, 59.136497, 58.2307, 57.32274, 56.412704, 55.500847, 54.587128], [64.954636, 64.069626, 63.179577, 61.83865, 60.940674], [68.44992, 67.58452, 66.71345, 65.83695, 68.962555, 68.10106, 67.23319], [71.49961, 70.66249, 69.81692], [73.14012, 72.326096], [74.724495, 73.94052], [76.23369, 75.49017], [76.95218], [77.640755], [78.294556], [78.90642], [79.470314], [79.97741], [80.41855], [80.78476], [], [81.066635], [81.25648], [], [81.347305], [81.33674], [], [81.225075], [], [], [], [], [], [73.063675], [70.582985, 71.42061, 72.2482], [67.15105, 68.0197, 68.881874, 69.73654], [63.62628, 64.51319, 65.398056, 66.27742], [57.32511, 58.23294, 59.13857, 60.041748, 60.942146, 61.841034, 62.73562], [51.839867, 52.758133, 53.67489, 54.590054, 55.503628, 56.415695, 49.442047, 50.364067, 51.284264, 52.2032, 53.120552], [38.311596, 39.243244, 40.17436, 41.105015, 42.034515, 42.96352, 43.891663, 44.819954, 45.746346, 46.671566, 47.59583, 48.51943], [30.838852, 31.774117, 32.709854, 33.645042, 34.5796, 35.514, 36.44713, 37.379185, 20.801483, 21.740074, 22.679255, 23.618324], [3.8602378, 4.802309, 5.744978, 6.686899, 7.6288776, 8.56855, 9.510665, 10.453211, 11.394935, 12.335819, 13.2763, 14.217711, 15.159386, 16.099485, 17.040058, 17.980755, 18.921139, 19.86084], [1.0345821, 1.9763075, 2.9185863]]\n"
     ]
    }
   ],
   "source": [
    "for x in range(len(mean_of_lat)):\n",
    "    current_latitudanal_value = mean_of_lat[x]\n",
    "    current_longitudanal_value = mean_of_long[x]\n",
    "    bucket_id = (current_longitudanal_value)/4\n",
    "    bucket_id = math.floor(bucket_id)\n",
    "    print(current_longitudanal_value, current_latitudanal_value, bucket_id)\n",
    "    lat_buckets[bucket_id].append(current_latitudanal_value)\n",
    "    \n",
    "print(lat_buckets)"
   ]
  },
  {
   "cell_type": "code",
   "execution_count": 15,
   "id": "b27fda17-d556-4704-aa2e-6327504d3e7f",
   "metadata": {},
   "outputs": [
    {
     "name": "stdout",
     "output_type": "stream",
     "text": [
      "[32, 36, 40, 44, 48, 52, 56, 60, 64, 68, 72, 76, 80, 84, 88, 92, 96, 100, 104, 112, 116, 124, 128, 136, 160, 164, 168, 172, 176, 180, 184, 188, 192, 196]\n",
      "[17.32132911682129, 26.242319226264954, 39.79808807373047, 49.992669423421226, 57.31864765712193, 62.9966323852539, 67.55452074323382, 70.65967305501302, 72.73310852050781, 74.3325080871582, 75.86193084716797, 76.95217895507812, 77.64075469970703, 78.2945556640625, 78.90641784667969, 79.4703140258789, 79.97740936279297, 80.41854858398438, 80.78475952148438, 81.06663513183594, 81.25647735595703, 81.34730529785156, 81.33673858642578, 81.2250747680664, 73.06367492675781, 71.41726430257161, 68.44729042053223, 64.95373725891113, 60.03673825945173, 52.836035988547586, 43.423086166381836, 30.143909613291424, 11.863453110059103, 1.9764919678370159]\n"
     ]
    }
   ],
   "source": [
    "mean_of_lat_buckets = []\n",
    "mean_of_long_buckets = []\n",
    "for bid, bucket in enumerate(lat_buckets):\n",
    "    total = 0\n",
    "    for val in bucket:\n",
    "        total += val\n",
    "    if len(bucket) != 0:\n",
    "        total = total / len(bucket)\n",
    "        mean_of_lat_buckets.append(total)\n",
    "        mean_of_long_buckets.append(long_buckets[bid])\n",
    "\n",
    "print(mean_of_long_buckets)\n",
    "print(mean_of_lat_buckets)"
   ]
  },
  {
   "cell_type": "code",
   "execution_count": 17,
   "id": "843246a1-dbd1-4036-bf89-ce15565ef201",
   "metadata": {},
   "outputs": [
    {
     "data": {
      "text/plain": [
       "49.992669423421226"
      ]
     },
     "execution_count": 17,
     "metadata": {},
     "output_type": "execute_result"
    }
   ],
   "source": [
    "mean_of_lat_buckets[3]"
   ]
  },
  {
   "cell_type": "code",
   "execution_count": 18,
   "id": "2ce7146c-6abc-4d40-957e-dbb77abc9ca5",
   "metadata": {},
   "outputs": [
    {
     "data": {
      "image/png": "[encoded data removed]",
      "text/plain": [
       "<Figure size 432x288 with 1 Axes>"
      ]
     },
     "metadata": {
      "needs_background": "light"
     },
     "output_type": "display_data"
    }
   ],
   "source": [
    "plt.scatter(mean_of_long_buckets, mean_of_lat_buckets)\n",
    "plt.show()"
   ]
  },
  {
   "cell_type": "code",
   "execution_count": 110,
   "id": "43750419-eb77-473b-abfd-8418c21e5063",
   "metadata": {},
   "outputs": [],
   "source": [
    "json_file_coords = np.reshape(np.transpose([mean_of_long_buckets, mean_of_lat_buckets]), (len(mean_of_lat_buckets), 2))"
   ]
  },
  {
   "cell_type": "code",
   "execution_count": 111,
   "id": "bdb48a58-3e91-4b01-be4b-a10b0bc32264",
   "metadata": {},
   "outputs": [
    {
     "name": "stdout",
     "output_type": "stream",
     "text": [
      "[[32.0, 17.32132911682129], [36.0, 26.242319226264954], [40.0, 39.79808807373047], [44.0, 49.992669423421226], [48.0, 57.31864765712193], [52.0, 62.9966323852539], [56.0, 67.55452074323382], [60.0, 70.65967305501302], [64.0, 72.73310852050781], [68.0, 74.3325080871582], [72.0, 75.86193084716797], [76.0, 76.95217895507812], [80.0, 77.64075469970703], [84.0, 78.2945556640625], [88.0, 78.90641784667969], [92.0, 79.4703140258789], [96.0, 79.97740936279297], [100.0, 80.41854858398438], [104.0, 80.78475952148438], [112.0, 81.06663513183594], [116.0, 81.25647735595703], [124.0, 81.34730529785156], [128.0, 81.33673858642578], [136.0, 81.2250747680664], [160.0, 73.06367492675781], [164.0, 71.41726430257161], [168.0, 68.44729042053223], [172.0, 64.95373725891113], [176.0, 60.03673825945173], [180.0, 52.836035988547586], [184.0, 43.423086166381836], [188.0, 30.143909613291424], [192.0, 11.863453110059103], [196.0, 1.9764919678370159]]\n"
     ]
    }
   ],
   "source": [
    "print(json_file_coords.tolist())"
   ]
  },
  {
   "cell_type": "code",
   "execution_count": 114,
   "id": "59b85383-1c4d-42c9-8fe9-71ac59b8e507",
   "metadata": {},
   "outputs": [
    {
     "name": "stdout",
     "output_type": "stream",
     "text": [
      "[-17.32132911682129, -26.242319226264954, -39.79808807373047, -49.992669423421226, -57.31864765712193, -62.9966323852539, -67.55452074323382, -70.65967305501302, -72.73310852050781, -74.3325080871582, -75.86193084716797, -76.95217895507812, -77.64075469970703, -78.2945556640625, -78.90641784667969, -79.4703140258789, -79.97740936279297, -80.41854858398438, -80.78475952148438, -81.06663513183594, -81.25647735595703, -81.34730529785156, -81.33673858642578, -81.2250747680664, -73.06367492675781, -71.41726430257161, -68.44729042053223, -64.95373725891113, -60.03673825945173, -52.836035988547586, -43.423086166381836, -30.143909613291424, -11.863453110059103, -1.9764919678370159]\n"
     ]
    }
   ],
   "source": [
    "second_array = []\n",
    "for value in mean_of_lat_buckets:\n",
    "    value = value * -1\n",
    "    second_array.append(value)\n",
    "\n",
    "print(second_array)"
   ]
  },
  {
   "cell_type": "code",
   "execution_count": 115,
   "id": "ef10c732-8332-4122-8a53-c598f502b1b8",
   "metadata": {},
   "outputs": [],
   "source": [
    "full_lat_movement = second_array + mean_of_lat_buckets"
   ]
  },
  {
   "cell_type": "code",
   "execution_count": 116,
   "id": "29721657-fbef-414c-a8d3-28671c73ffed",
   "metadata": {},
   "outputs": [
    {
     "name": "stdout",
     "output_type": "stream",
     "text": [
      "[17.32132911682129, 26.242319226264954, 39.79808807373047, 49.992669423421226, 57.31864765712193, 62.9966323852539, 67.55452074323382, 70.65967305501302, 72.73310852050781, 74.3325080871582, 75.86193084716797, 76.95217895507812, 77.64075469970703, 78.2945556640625, 78.90641784667969, 79.4703140258789, 79.97740936279297, 80.41854858398438, 80.78475952148438, 81.06663513183594, 81.25647735595703, 81.34730529785156, 81.33673858642578, 81.2250747680664, 73.06367492675781, 71.41726430257161, 68.44729042053223, 64.95373725891113, 60.03673825945173, 52.836035988547586, 43.423086166381836, 30.143909613291424, 11.863453110059103, 1.9764919678370159, -17.32132911682129, -26.242319226264954, -39.79808807373047, -49.992669423421226, -57.31864765712193, -62.9966323852539, -67.55452074323382, -70.65967305501302, -72.73310852050781, -74.3325080871582, -75.86193084716797, -76.95217895507812, -77.64075469970703, -78.2945556640625, -78.90641784667969, -79.4703140258789, -79.97740936279297, -80.41854858398438, -80.78475952148438, -81.06663513183594, -81.25647735595703, -81.34730529785156, -81.33673858642578, -81.2250747680664, -73.06367492675781, -71.41726430257161, -68.44729042053223, -64.95373725891113, -60.03673825945173, -52.836035988547586, -43.423086166381836, -30.143909613291424, -11.863453110059103, -1.9764919678370159]\n"
     ]
    }
   ],
   "source": [
    "print(full_lat_movement)"
   ]
  },
  {
   "cell_type": "code",
   "execution_count": 120,
   "id": "3f2dd3c2-cadc-4d1a-8255-3cbb384ab4f1",
   "metadata": {},
   "outputs": [
    {
     "name": "stdout",
     "output_type": "stream",
     "text": [
      "[32, 36, 40, 44, 48, 52, 56, 60, 64, 68, 72, 76, 80, 84, 88, 92, 96, 100, 104, 112, 116, 124, 128, 136, 160, 164, 168, 172, 176, 180, 184, 188, 192, 196, 32, 36, 40, 44, 48, 52, 56, 60, 64, 68, 72, 76, 80, 84, 88, 92, 96, 100, 104, 112, 116, 124, 128, 136, 160, 164, 168, 172, 176, 180, 184, 188, 192, 196]\n"
     ]
    }
   ],
   "source": [
    "temp_long_movement = mean_of_long_buckets + mean_of_long_buckets\n",
    "print(temp_long_movement)"
   ]
  },
  {
   "cell_type": "code",
   "execution_count": 121,
   "id": "2e59c6c7-bcf8-4373-b00e-7343bb94e739",
   "metadata": {},
   "outputs": [
    {
     "data": {
      "text/plain": [
       "68"
      ]
     },
     "execution_count": 121,
     "metadata": {},
     "output_type": "execute_result"
    }
   ],
   "source": [
    "len(temp_long_movement)"
   ]
  },
  {
   "cell_type": "code",
   "execution_count": 14,
   "id": "83ac203d-c352-4b6f-90e8-956909d1643e",
   "metadata": {},
   "outputs": [
    {
     "ename": "NameError",
     "evalue": "name 'temp_long_movement' is not defined",
     "output_type": "error",
     "traceback": [
      "\u001b[0;31m---------------------------------------------------------------------------\u001b[0m",
      "\u001b[0;31mNameError\u001b[0m                                 Traceback (most recent call last)",
      "Input \u001b[0;32mIn [14]\u001b[0m, in \u001b[0;36m<cell line: 2>\u001b[0;34m()\u001b[0m\n\u001b[1;32m      1\u001b[0m full_long_movement \u001b[38;5;241m=\u001b[39m []\n\u001b[0;32m----> 2\u001b[0m \u001b[38;5;28;01mfor\u001b[39;00m value \u001b[38;5;129;01min\u001b[39;00m \u001b[43mtemp_long_movement\u001b[49m[\u001b[38;5;241m34\u001b[39m:]:\n\u001b[1;32m      3\u001b[0m     value \u001b[38;5;241m-\u001b[39m\u001b[38;5;241m=\u001b[39m \u001b[38;5;241m168\u001b[39m\n\u001b[1;32m      4\u001b[0m     full_long_movement\u001b[38;5;241m.\u001b[39mappend(value)\n",
      "\u001b[0;31mNameError\u001b[0m: name 'temp_long_movement' is not defined"
     ]
    }
   ],
   "source": [
    "full_long_movement = []\n",
    "for value in temp_long_movement[34:]:\n",
    "    value -= 168\n",
    "    full_long_movement.append(value)\n",
    "\n",
    "print(full_long_movement)\n",
    "full_long_movement = mean_of_long_buckets + full_long_movement\n",
    "print(full_long_movement)\n"
   ]
  },
  {
   "cell_type": "code",
   "execution_count": 136,
   "id": "1790c5e4-57ae-4be8-b2ac-026efe11cbef",
   "metadata": {},
   "outputs": [
    {
     "data": {
      "text/plain": [
       "<matplotlib.collections.PathCollection at 0x7f9bdd6a1510>"
      ]
     },
     "execution_count": 136,
     "metadata": {},
     "output_type": "execute_result"
    },
    {
     "data": {
      "image/png": "[encoded data removed]",
      "text/plain": [
       "<Figure size 432x288 with 1 Axes>"
      ]
     },
     "metadata": {
      "needs_background": "light"
     },
     "output_type": "display_data"
    }
   ],
   "source": [
    "plt.scatter(full_long_movement, full_lat_movement)"
   ]
  },
  {
   "cell_type": "code",
   "execution_count": 50,
   "id": "92052626-1c7b-403c-9d9a-ab13ab84de4f",
   "metadata": {},
   "outputs": [
    {
     "name": "stdout",
     "output_type": "stream",
     "text": [
      "[61.90476190476147, 65.33183333333272, 65.33133333333353, 65.33183333333363, 65.33183333333182, 65.33200000000033, 65.33183333333363]\n",
      "[1680, 6000, 6000, 6000, 6000, 6000, 6000]\n"
     ]
    }
   ],
   "source": [
    "file_path =  '/home/users/dwest77/tbworkexp/01/'\n",
    "chosen_var = 'sensingtime_msec'\n",
    "\n",
    "def finding_var_diff(var, file_path, file_name):\n",
    "\n",
    "    open_file = np.array(xr.open_mfdataset(file_path + file_name)[var])\n",
    "\n",
    "    min_var = np.min(open_file)\n",
    "    max_var  = np.max(open_file)\n",
    "    min_avr = min_var / len(open_file)\n",
    "    max_avr = max_var / len(open_file)\n",
    "    return max_avr - min_avr\n",
    "\n",
    "\n",
    "def finding_length_of_file(var, file_path, file_name):\n",
    "    open_file = np.array(xr.open_mfdataset(file_path + file_name)[var])\n",
    "    length = len(open_file)\n",
    "    return length\n",
    "\n",
    "\n",
    "list_of_time_avrs = []\n",
    "list_of_lengths_files = []\n",
    "for file in uniquely_identified_files:\n",
    "    time_difference = finding_var_diff(chosen_var, file_path, file)\n",
    "    length_of_file = finding_length_of_file(chosen_var, file_path, file)\n",
    "    list_of_lengths_files.append(length_of_file)\n",
    "    list_of_time_avrs.append(time_difference)\n",
    "\n",
    "print(list_of_time_avrs)\n",
    "print(list_of_lengths_files)\n"
   ]
  },
  {
   "cell_type": "code",
   "execution_count": 52,
   "id": "1b68dbe6-93b0-4fe8-9596-7b775b8edee9",
   "metadata": {},
   "outputs": [
    {
     "name": "stdout",
     "output_type": "stream",
     "text": [
      "65.17898089171958\n"
     ]
    }
   ],
   "source": [
    "sum = 0\n",
    "denom = 0\n",
    "for i in range(len(list_of_time_avrs)):\n",
    "    sum += list_of_lengths_files[i] * list_of_time_avrs[i]\n",
    "    denom += list_of_lengths_files[i]\n",
    "\n",
    "\n",
    "mean_dist_of_points = sum / denom\n",
    "print(mean_dist_of_points)"
   ]
  },
  {
   "cell_type": "code",
   "execution_count": 53,
   "id": "d155b7cc-ffde-45df-87c1-4349f8f90d0c",
   "metadata": {},
   "outputs": [],
   "source": [
    "n_points = 0\n",
    "for val in list_of_lengths_files:\n",
    "    n_points += val\n",
    "\n",
    "total_time_of_points = (n_points) * mean_dist_of_points * 14"
   ]
  },
  {
   "cell_type": "code",
   "execution_count": 54,
   "id": "6281f095-e0cd-4a76-b672-51536ebdff53",
   "metadata": {},
   "outputs": [],
   "source": [
    "total_time_of_points_sec = total_time_of_points * 0.001"
   ]
  },
  {
   "cell_type": "code",
   "execution_count": 62,
   "id": "dc14f2f4-d0d0-47d8-9ce0-fe09d652c5d9",
   "metadata": {},
   "outputs": [],
   "source": [
    "total_time_of_points_mins = total_time_of_points_sec / 60"
   ]
  },
  {
   "cell_type": "code",
   "execution_count": 59,
   "id": "bfe1e270-8bc6-49fc-8598-28597a4724da",
   "metadata": {},
   "outputs": [],
   "source": [
    "total_time_of_points_hours = total_time_of_points_sec / 3600"
   ]
  },
  {
   "cell_type": "code",
   "execution_count": 63,
   "id": "f43c9c38-0070-4e67-b4ac-76a98c5f03c6",
   "metadata": {},
   "outputs": [
    {
     "name": "stdout",
     "output_type": "stream",
     "text": [
      "573.0535999999986 9.55089333333331\n"
     ]
    }
   ],
   "source": [
    "print(total_time_of_points_mins, total_time_of_points_hours)"
   ]
  },
  {
   "cell_type": "code",
   "execution_count": null,
   "id": "d724069a-2033-4133-9976-0c9e7e8051e7",
   "metadata": {},
   "outputs": [],
   "source": []
  }
 ],
 "metadata": {
  "kernelspec": {
   "display_name": "Python 3 + Jaspy",
   "language": "python",
   "name": "jaspy"
  },
  "language_info": {
   "codemirror_mode": {
    "name": "ipython",
    "version": 3
   },
   "file_extension": ".py",
   "mimetype": "text/x-python",
   "name": "python",
   "nbconvert_exporter": "python",
   "pygments_lexer": "ipython3",
   "version": "3.10.5"
  }
 },
 "nbformat": 4,
 "nbformat_minor": 5
}
